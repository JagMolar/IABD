{
  "nbformat": 4,
  "nbformat_minor": 0,
  "metadata": {
    "colab": {
      "provenance": []
    },
    "kernelspec": {
      "name": "python3",
      "display_name": "Python 3"
    },
    "language_info": {
      "name": "python"
    }
  },
  "cells": [
    {
      "cell_type": "markdown",
      "source": [
        "# Tarea para PIA03\n",
        "## Uso de Google Colab y Python"
      ],
      "metadata": {
        "id": "1xVfGeQdJUfu"
      }
    },
    {
      "cell_type": "markdown",
      "source": [
        "**Apartado 1 con Python**"
      ],
      "metadata": {
        "id": "f0m8s4AcJspx"
      }
    },
    {
      "cell_type": "code",
      "source": [
        "import this"
      ],
      "metadata": {
        "colab": {
          "base_uri": "https://localhost:8080/"
        },
        "id": "WfxyFazN7qGi",
        "outputId": "1a20ac02-2c19-47b6-c32f-614e12ca1078"
      },
      "execution_count": 3,
      "outputs": [
        {
          "output_type": "stream",
          "name": "stdout",
          "text": [
            "The Zen of Python, by Tim Peters\n",
            "\n",
            "Beautiful is better than ugly.\n",
            "Explicit is better than implicit.\n",
            "Simple is better than complex.\n",
            "Complex is better than complicated.\n",
            "Flat is better than nested.\n",
            "Sparse is better than dense.\n",
            "Readability counts.\n",
            "Special cases aren't special enough to break the rules.\n",
            "Although practicality beats purity.\n",
            "Errors should never pass silently.\n",
            "Unless explicitly silenced.\n",
            "In the face of ambiguity, refuse the temptation to guess.\n",
            "There should be one-- and preferably only one --obvious way to do it.\n",
            "Although that way may not be obvious at first unless you're Dutch.\n",
            "Now is better than never.\n",
            "Although never is often better than *right* now.\n",
            "If the implementation is hard to explain, it's a bad idea.\n",
            "If the implementation is easy to explain, it may be a good idea.\n",
            "Namespaces are one honking great idea -- let's do more of those!\n"
          ]
        }
      ]
    },
    {
      "cell_type": "code",
      "source": [
        "c = ['León','Zamora','Salamanca','Oviedo','Ponferrada','Gijón','Palencia','Miranda de Ebro','Madrid','Burgos']\n",
        "print(*c)"
      ],
      "metadata": {
        "colab": {
          "base_uri": "https://localhost:8080/"
        },
        "id": "7Wc37cHZ5g1V",
        "outputId": "39f4c113-6376-453f-a153-367bce8edf30"
      },
      "execution_count": 4,
      "outputs": [
        {
          "output_type": "stream",
          "name": "stdout",
          "text": [
            "León Zamora Salamanca Oviedo Ponferrada Gijón Palencia Miranda de Ebro Madrid Burgos\n"
          ]
        }
      ]
    },
    {
      "cell_type": "code",
      "source": [
        "a = ['Metallica','ACDC','Sidonie','Tino Casal','Leyva','Victor Manuel','Bon Jovi','Mojinos Escozios','Viva Suecia','Joaquín Sabina']\n",
        "print(*a)"
      ],
      "metadata": {
        "colab": {
          "base_uri": "https://localhost:8080/"
        },
        "id": "T8VDsDyb-WNG",
        "outputId": "efed7e8f-f7e8-48f0-e6eb-08f0508b6a5f"
      },
      "execution_count": 5,
      "outputs": [
        {
          "output_type": "stream",
          "name": "stdout",
          "text": [
            "Metallica ACDC Sidonie Tino Casal Leyva Victor Manuel Bon Jovi Mojinos Escozios Viva Suecia Joaquín Sabina\n"
          ]
        }
      ]
    },
    {
      "cell_type": "code",
      "source": [
        "diccionario = { a:c for(a,c) in zip(a,c)}\n",
        "print(diccionario)"
      ],
      "metadata": {
        "colab": {
          "base_uri": "https://localhost:8080/"
        },
        "id": "gZyVtwDtADGf",
        "outputId": "25ec6bb0-2ecf-4e3b-ac16-3b1fa59035af"
      },
      "execution_count": 17,
      "outputs": [
        {
          "output_type": "stream",
          "name": "stdout",
          "text": [
            "{'Metallica': 'León', 'ACDC': 'Zamora', 'Sidonie': 'Salamanca', 'Tino Casal': 'Oviedo', 'Leyva': 'Ponferrada', 'Victor Manuel': 'Gijón', 'Bon Jovi': 'Palencia', 'Mojinos Escozios': 'Miranda de Ebro', 'Viva Suecia': 'Madrid', 'Joaquín Sabina': 'Burgos'}\n"
          ]
        }
      ]
    },
    {
      "cell_type": "markdown",
      "source": [
        "Combinar al mostrar en pantalla, el texto _\"Estos son los conciertos de la semana\"_ con el ***diccionario*** creado."
      ],
      "metadata": {
        "id": "ePeIy36JLapF"
      }
    },
    {
      "cell_type": "code",
      "source": [
        "print(\"Estos son los conciertos de la semana: \", \"\\n\", diccionario)"
      ],
      "metadata": {
        "colab": {
          "base_uri": "https://localhost:8080/"
        },
        "id": "GDkxLnedBrNx",
        "outputId": "b0dccfd7-2540-4d32-c966-297110dbccf1"
      },
      "execution_count": 20,
      "outputs": [
        {
          "output_type": "stream",
          "name": "stdout",
          "text": [
            "Estos son los conciertos de la semana:  \n",
            " {'Metallica': 'León', 'ACDC': 'Zamora', 'Sidonie': 'Salamanca', 'Tino Casal': 'Oviedo', 'Leyva': 'Ponferrada', 'Victor Manuel': 'Gijón', 'Bon Jovi': 'Palencia', 'Mojinos Escozios': 'Miranda de Ebro', 'Viva Suecia': 'Madrid', 'Joaquín Sabina': 'Burgos'}\n"
          ]
        }
      ]
    },
    {
      "cell_type": "code",
      "source": [
        "c.sort(reverse=True)\n",
        "diccionario = { a:c for(a,c) in zip(a,c)}\n",
        "print(diccionario)"
      ],
      "metadata": {
        "colab": {
          "base_uri": "https://localhost:8080/"
        },
        "id": "i5Y3TVS2FqQj",
        "outputId": "7eb9be8a-0031-4cb8-ade8-7934ce1bf4a0"
      },
      "execution_count": 21,
      "outputs": [
        {
          "output_type": "stream",
          "name": "stdout",
          "text": [
            "{'Metallica': 'Zamora', 'ACDC': 'Salamanca', 'Sidonie': 'Ponferrada', 'Tino Casal': 'Palencia', 'Leyva': 'Oviedo', 'Victor Manuel': 'Miranda de Ebro', 'Bon Jovi': 'Madrid', 'Mojinos Escozios': 'León', 'Viva Suecia': 'Gijón', 'Joaquín Sabina': 'Burgos'}\n"
          ]
        }
      ]
    },
    {
      "cell_type": "markdown",
      "source": [
        "Más información en el [Manual Python](https://python-docs-es.readthedocs.io/es/3.11/) y en su [Web](https://www.python.org/) ."
      ],
      "metadata": {
        "id": "mKGRoR9WMftO"
      }
    },
    {
      "cell_type": "markdown",
      "source": [
        "![Logo de Python](https://www.python.org/static/img/python-logo.png)"
      ],
      "metadata": {
        "id": "VGFq9Fx7DcZm"
      }
    }
  ]
}